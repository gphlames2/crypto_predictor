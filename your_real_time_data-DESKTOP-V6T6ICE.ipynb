{
 "cells": [
  {
   "cell_type": "code",
   "execution_count": 13,
   "metadata": {
    "collapsed": true
   },
   "outputs": [],
   "source": [
    "import pandas as pd\n",
    "#import yfinance as yf\n",
    "import numpy as np\n",
    "#from yahoofinancials import YahooFinancials\n",
    "from sklearn.preprocessing import  MinMaxScaler\n",
    "import matplotlib.pyplot as plt\n",
    "from sklearn.preprocessing import MinMaxScaler\n",
    "#from keras import layers\n",
    "from sklearn.metrics import mean_squared_error\n",
    "from datetime import timedelta\n",
    "import json\n",
    "import requests\n",
    "\n",
    "list_of_coin_names = ['BTC-USD','ETH-USD','LTC-USD','USDT-USD','XMR-USD','XRP-USD','ZEC-USD','XLM-USD','POT-USD']\n",
    "time_array = []\n",
    "pd.set_option('display.precision',2)\n",
    "your_coin = pd.read_csv('BTC-USD'+'.csv')\n",
    "your_coin.Date = pd.to_datetime(your_coin.Date)\n",
    "\n",
    "# for name in list_of_coin_names:\n",
    "#     crypto_data = yf.download(name,start='2018-01-01',end='2021-12-31')\n",
    "#     crypto_data.to_csv(f'{name}'+'.csv')\n",
    "#     list_of_coins.append(crypto_data)\n",
    "# # for index, coin in enumerate(list_of_coins):\n",
    "# #     list_of_coins[index] = pd.DataFrame(coin)\n",
    "# #     list_of_coins[index].corr()\n",
    "# list_of_coins = pd.concat(list_of_coins)\n",
    "# list_of_coins.head(100)\n"
   ]
  },
  {
   "cell_type": "code",
   "execution_count": 21,
   "outputs": [
    {
     "name": "stdout",
     "output_type": "stream",
     "text": [
      "2021-12-31 00:00:00\n",
      "2021-05-28 00:00:00\n",
      "2021-05-29 00:00:00 to 2021-12-31 00:00:00\n"
     ]
    }
   ],
   "source": [
    "test_cf_date = your_coin['Date'].max() - timedelta(weeks=31)\n",
    "val_cf_date = test_cf_date - timedelta(weeks=62)\n",
    "your_coin_test = your_coin[your_coin['Date'] > test_cf_date]\n",
    "your_coin_val = your_coin[(your_coin['Date'] > val_cf_date) & (your_coin['Date'] <= test_cf_date)]\n",
    "your_coin_train = your_coin[your_coin['Date'] <= val_cf_date]\n",
    "print(your_coin['Date'].max())\n",
    "print(test_cf_date)\n",
    "print('{} to {}'.format(your_coin_test['Date'].min(), your_coin_test['Date'].max()))\n"
   ],
   "metadata": {
    "collapsed": false,
    "pycharm": {
     "name": "#%%\n"
    }
   }
  },
  {
   "cell_type": "code",
   "execution_count": null,
   "outputs": [],
   "source": [
    "for coins in list_of_coins:\n",
    "    scaler = MinMaxScaler()\n",
    "    tranformed_data = scaler.fit_transform(X=coins.drop(['Date'],axis=1),y=[coins.Low, coins.High])\n",
    "    print(tranformed_data)"
   ],
   "metadata": {
    "collapsed": false,
    "pycharm": {
     "name": "#%%\n"
    }
   }
  },
  {
   "cell_type": "code",
   "execution_count": null,
   "outputs": [],
   "source": [],
   "metadata": {
    "collapsed": false,
    "pycharm": {
     "name": "#%%\n"
    }
   }
  }
 ],
 "metadata": {
  "kernelspec": {
   "display_name": "Python 3",
   "language": "python",
   "name": "python3"
  },
  "language_info": {
   "codemirror_mode": {
    "name": "ipython",
    "version": 2
   },
   "file_extension": ".py",
   "mimetype": "text/x-python",
   "name": "python",
   "nbconvert_exporter": "python",
   "pygments_lexer": "ipython2",
   "version": "2.7.6"
  }
 },
 "nbformat": 4,
 "nbformat_minor": 0
}