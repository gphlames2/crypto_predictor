{
 "cells": [
  {
   "cell_type": "code",
   "execution_count": 1,
   "metadata": {
    "collapsed": true,
    "pycharm": {
     "name": "#%%\n"
    }
   },
   "outputs": [
    {
     "name": "stdout",
     "output_type": "stream",
     "text": [
      "147500\n",
      "id                    0.000000\n",
      "name                  0.000000\n",
      "symbol                0.000000\n",
      "slug                  0.000000\n",
      "num_market_pairs      0.000000\n",
      "date added            0.000000\n",
      "max_supply            0.399044\n",
      "circulating_supply    0.000000\n",
      "total_supply          0.000000\n",
      "platform_id           0.541098\n",
      "platform_name         0.541098\n",
      "platform_symbol       0.541098\n",
      "platform_slug         0.541098\n",
      "platform_token        0.541098\n",
      "cmc_rank              0.000000\n",
      "last_updated          0.000000\n",
      "price                 0.000000\n",
      "volume_24h            0.000000\n",
      "percent_change_1h     0.000000\n",
      "percent_change_24h    0.000000\n",
      "percent_change_7d     0.000000\n",
      "percent_change_30d    0.001600\n",
      "percent_change_60d    0.003661\n",
      "percent_change_90d    0.009234\n",
      "market_cap            0.000000\n",
      "extracted_time        0.000000\n",
      "count                 0.000000\n",
      "dtype: float64\n"
     ]
    }
   ],
   "source": [
    "import pandas as pd\n",
    "import numpy as np\n",
    "from sklearn import preprocessing\n",
    "import matplotlib.pyplot as plt\n",
    "header_names = ['id','name','symbol','slug','num_market_pairs','date added','max_supply','circulating_supply','total_supply','platform_id','platform_name','platform_symbol','platform_slug','platform_token','cmc_rank','last_updated','price','volume_24h','percent_change_1h','percent_change_24h','percent_change_7d','percent_change_30d','percent_change_60d','percent_change_90d','market_cap','extracted_time','count']\n",
    "my_data = pd.read_csv('all_crypto_half_hour.csv',names=header_names)\n",
    "my_data = pd.DataFrame(my_data)\n",
    "print(len(my_data))\n",
    "print(my_data.isnull().sum()/len(my_data))"
   ]
  },
  {
   "cell_type": "code",
   "execution_count": 2,
   "outputs": [
    {
     "name": "stdout",
     "output_type": "stream",
     "text": [
      "name                  0\n",
      "symbol                0\n",
      "num_market_pairs      0\n",
      "circulating_supply    0\n",
      "total_supply          0\n",
      "cmc_rank              0\n",
      "last_updated          0\n",
      "price                 0\n",
      "volume_24h            0\n",
      "percent_change_1h     0\n",
      "percent_change_24h    0\n",
      "percent_change_7d     0\n",
      "percent_change_30d    0\n",
      "percent_change_60d    0\n",
      "percent_change_90d    0\n",
      "market_cap            0\n",
      "dtype: int64\n",
      "146133\n"
     ]
    }
   ],
   "source": [
    "my_data.percent_change_30d.fillna(my_data.percent_change_30d.mean, inplace=True)\n",
    "my_data.percent_change_60d.fillna(my_data.percent_change_60d.mean, inplace=True)\n",
    "my_data.percent_change_90d.fillna(my_data.percent_change_90d.mean, inplace=True)"
   ],
   "metadata": {
    "collapsed": false,
    "pycharm": {
     "name": "#%%\n"
    }
   }
  },
  {
   "cell_type": "code",
   "execution_count": null,
   "outputs": [],
   "source": [
    "from sklearn.preprocessing import LabelEncoder\n",
    "labelencoder = LabelEncoder()\n",
    "labelencoder.fit(my_data.name)\n",
    "my_data.name = labelencoder.transform(my_data.name)\n",
    "new_data = my_data['name']\n",
    "new_data = pd.concat(new_data,my_data.percent_change_90d)\n",
    "new_data = pd.concat(new_data,my_data.percent_change_60d)\n",
    "new_data = pd.concat(new_data,my_data.percent_change_30d)\n",
    "new_data = pd.concat(new_data,my_data.percent_change_7d)\n",
    "X_data = new_data.drop(['name'],axis=1)\n",
    "Y_data = new_data.name"
   ],
   "metadata": {
    "collapsed": false,
    "pycharm": {
     "name": "#%%\n"
    }
   }
  },
  {
   "cell_type": "code",
   "execution_count": 3,
   "outputs": [
    {
     "name": "stdout",
     "output_type": "stream",
     "text": [
      "                name symbol  num_market_pairs  circulating_supply  \\\n",
      "0            Bitcoin    BTC              9873        1.865743e+07   \n",
      "1           Ethereum    ETH              6233        1.151035e+08   \n",
      "2            Cardano    ADA               259        3.194831e+10   \n",
      "3       Binance Coin    BNB               601        1.545328e+08   \n",
      "4             Tether   USDT             11498        3.886893e+10   \n",
      "...              ...    ...               ...                 ...   \n",
      "147495     SwissBorg   CHSB                 7        1.000000e+09   \n",
      "147496          ICON    ICX                66        6.280304e+08   \n",
      "147497          Ankr   ANKR                62        6.996233e+09   \n",
      "147498          HUSD   HUSD                81        7.852567e+08   \n",
      "147499     Ravencoin    RVN                81        8.910955e+09   \n",
      "\n",
      "        total_supply  cmc_rank              last_updated         price  \\\n",
      "0       1.865743e+07         1  2021-03-18T19:56:04.000Z  41396.411103   \n",
      "1       1.151035e+08         2  2021-03-18T19:56:02.000Z   1272.380724   \n",
      "2       4.500000e+10         3  2021-03-18T19:55:18.000Z      0.902492   \n",
      "3       1.705328e+08         4  2021-03-18T19:55:13.000Z    186.275926   \n",
      "4       4.063634e+10         5  2021-03-18T19:55:15.000Z      0.718866   \n",
      "...              ...       ...                       ...           ...   \n",
      "147495  1.000000e+09        96  2021-06-03T12:13:07.000Z      0.590819   \n",
      "147496  8.004600e+08        97  2021-06-03T12:13:03.000Z      0.890615   \n",
      "147497  1.000000e+10        98  2021-06-03T12:13:08.000Z      0.078959   \n",
      "147498  7.852567e+08        99  2021-06-03T12:12:13.000Z      0.705738   \n",
      "147499  8.910955e+09       100  2021-06-03T12:13:06.000Z      0.061970   \n",
      "\n",
      "          volume_24h  percent_change_1h  percent_change_24h  \\\n",
      "0       4.143481e+10          -3.107614           -0.291386   \n",
      "1       1.708570e+10          -2.833473           -3.302048   \n",
      "2       9.088222e+09          -1.816408           -0.164829   \n",
      "3       1.845376e+09          -2.034368           -1.271910   \n",
      "4       6.488249e+10          -0.052728           -0.565062   \n",
      "...              ...                ...                 ...   \n",
      "147495  2.534558e+06          -1.956113            0.180835   \n",
      "147496  5.130412e+07          -1.072970            3.316531   \n",
      "147497  2.774486e+07          -0.966440            4.812712   \n",
      "147498  9.040305e+08          -0.125426           -0.430808   \n",
      "147499  7.130940e+07          -1.266694            4.891766   \n",
      "\n",
      "        percent_change_7d  percent_change_30d  percent_change_60d  \\\n",
      "0               -2.153760           18.438645           61.139199   \n",
      "1               -4.479624            0.640296           44.125517   \n",
      "2                9.395966           43.959893          231.059643   \n",
      "3              -13.629409          100.113801          484.769191   \n",
      "4               -2.366472            0.038261            0.039952   \n",
      "...                   ...                 ...                 ...   \n",
      "147495         -19.673418          -43.335054          -23.803747   \n",
      "147496          -4.955002          -45.766505          -52.226988   \n",
      "147497          -3.874777          -31.852122          -32.452274   \n",
      "147498          -2.345547            0.102119           -0.844360   \n",
      "147499         -15.308974          -49.400739          -52.935181   \n",
      "\n",
      "        percent_change_90d    market_cap converted time  \n",
      "0               152.875961  7.723507e+11     2021-03-18  \n",
      "1               174.312956  1.464554e+11     2021-03-18  \n",
      "2               669.445435  2.883309e+10     2021-03-18  \n",
      "3               746.765119  2.878574e+10     2021-03-18  \n",
      "4                 0.026013  2.794155e+10     2021-03-18  \n",
      "...                    ...           ...            ...  \n",
      "147495          -23.261683  5.908191e+08     2021-06-03  \n",
      "147496          -31.183632  5.593331e+08     2021-06-03  \n",
      "147497          223.624257  5.524174e+08     2021-06-03  \n",
      "147498            0.174929  5.541858e+08     2021-06-03  \n",
      "147499          -41.599699  5.522143e+08     2021-06-03  \n",
      "\n",
      "[146133 rows x 17 columns]\n"
     ]
    }
   ],
   "source": [
    "#convert time string to time object\n",
    "modified_data['converted time'] = pd.to_datetime(modified_data['last_updated'])\n",
    "modified_data['converted time'] = [d.date() for d in modified_data['converted time']]"
   ],
   "metadata": {
    "collapsed": false,
    "pycharm": {
     "name": "#%%\n"
    }
   }
  },
  {
   "cell_type": "code",
   "execution_count": 4,
   "outputs": [
    {
     "name": "stderr",
     "output_type": "stream",
     "text": [
      "C:\\Users\\braim\\AppData\\Local\\Temp\\ipykernel_13368\\2989957828.py:4: SettingWithCopyWarning: \n",
      "A value is trying to be set on a copy of a slice from a DataFrame.\n",
      "Try using .loc[row_indexer,col_indexer] = value instead\n",
      "\n",
      "See the caveats in the documentation: https://pandas.pydata.org/pandas-docs/stable/user_guide/indexing.html#returning-a-view-versus-a-copy\n",
      "  btc['name'] = preprocessing.LabelEncoder().fit_transform(btc.name)\n",
      "C:\\Users\\braim\\AppData\\Local\\Temp\\ipykernel_13368\\2989957828.py:5: SettingWithCopyWarning: \n",
      "A value is trying to be set on a copy of a slice from a DataFrame.\n",
      "Try using .loc[row_indexer,col_indexer] = value instead\n",
      "\n",
      "See the caveats in the documentation: https://pandas.pydata.org/pandas-docs/stable/user_guide/indexing.html#returning-a-view-versus-a-copy\n",
      "  btc['symbol'] = preprocessing.LabelEncoder().fit_transform(btc.symbol)\n"
     ]
    },
    {
     "data": {
      "text/plain": "                    num_market_pairs  circulating_supply  total_supply  price  \\\nnum_market_pairs                1.00               -0.36         -0.36  -0.08   \ncirculating_supply             -0.36                1.00          1.00  -0.58   \ntotal_supply                   -0.36                1.00          1.00  -0.58   \nprice                          -0.08               -0.58         -0.58   1.00   \nvolume_24h                     -0.20                0.27          0.27  -0.28   \npercent_change_1h              -0.08                0.04          0.04   0.04   \npercent_change_24h             -0.11               -0.11         -0.11   0.32   \npercent_change_7d              -0.10               -0.24         -0.24   0.70   \npercent_change_30d             -0.04               -0.79         -0.79   0.78   \npercent_change_60d              0.17               -0.95         -0.95   0.63   \npercent_change_90d              0.46               -0.91         -0.91   0.58   \nmarket_cap                     -0.08               -0.58         -0.58   1.00   \n\n                    volume_24h  percent_change_1h  percent_change_24h  \\\nnum_market_pairs         -0.20              -0.08               -0.11   \ncirculating_supply        0.27               0.04               -0.11   \ntotal_supply              0.27               0.04               -0.11   \nprice                    -0.28               0.04                0.32   \nvolume_24h                1.00               0.07               -0.39   \npercent_change_1h         0.07               1.00                0.23   \npercent_change_24h       -0.39               0.23                1.00   \npercent_change_7d        -0.44               0.08                0.46   \npercent_change_30d       -0.25               0.03                0.28   \npercent_change_60d       -0.29              -0.01                0.16   \npercent_change_90d       -0.36              -0.03                0.16   \nmarket_cap               -0.28               0.04                0.32   \n\n                    percent_change_7d  percent_change_30d  percent_change_60d  \\\nnum_market_pairs                -0.10               -0.04                0.17   \ncirculating_supply              -0.24               -0.79               -0.95   \ntotal_supply                    -0.24               -0.79               -0.95   \nprice                            0.70                0.78                0.63   \nvolume_24h                      -0.44               -0.25               -0.29   \npercent_change_1h                0.08                0.03               -0.01   \npercent_change_24h               0.46                0.28                0.16   \npercent_change_7d                1.00                0.52                0.37   \npercent_change_30d               0.52                1.00                0.85   \npercent_change_60d               0.37                0.85                1.00   \npercent_change_90d               0.36                0.71                0.87   \nmarket_cap                       0.70                0.78                0.63   \n\n                    percent_change_90d  market_cap  \nnum_market_pairs                  0.46       -0.08  \ncirculating_supply               -0.91       -0.58  \ntotal_supply                     -0.91       -0.58  \nprice                             0.58        1.00  \nvolume_24h                       -0.36       -0.28  \npercent_change_1h                -0.03        0.04  \npercent_change_24h                0.16        0.32  \npercent_change_7d                 0.36        0.70  \npercent_change_30d                0.71        0.78  \npercent_change_60d                0.87        0.63  \npercent_change_90d                1.00        0.58  \nmarket_cap                        0.58        1.00  ",
      "text/html": "<div>\n<style scoped>\n    .dataframe tbody tr th:only-of-type {\n        vertical-align: middle;\n    }\n\n    .dataframe tbody tr th {\n        vertical-align: top;\n    }\n\n    .dataframe thead th {\n        text-align: right;\n    }\n</style>\n<table border=\"1\" class=\"dataframe\">\n  <thead>\n    <tr style=\"text-align: right;\">\n      <th></th>\n      <th>num_market_pairs</th>\n      <th>circulating_supply</th>\n      <th>total_supply</th>\n      <th>price</th>\n      <th>volume_24h</th>\n      <th>percent_change_1h</th>\n      <th>percent_change_24h</th>\n      <th>percent_change_7d</th>\n      <th>percent_change_30d</th>\n      <th>percent_change_60d</th>\n      <th>percent_change_90d</th>\n      <th>market_cap</th>\n    </tr>\n  </thead>\n  <tbody>\n    <tr>\n      <th>num_market_pairs</th>\n      <td>1.00</td>\n      <td>-0.36</td>\n      <td>-0.36</td>\n      <td>-0.08</td>\n      <td>-0.20</td>\n      <td>-0.08</td>\n      <td>-0.11</td>\n      <td>-0.10</td>\n      <td>-0.04</td>\n      <td>0.17</td>\n      <td>0.46</td>\n      <td>-0.08</td>\n    </tr>\n    <tr>\n      <th>circulating_supply</th>\n      <td>-0.36</td>\n      <td>1.00</td>\n      <td>1.00</td>\n      <td>-0.58</td>\n      <td>0.27</td>\n      <td>0.04</td>\n      <td>-0.11</td>\n      <td>-0.24</td>\n      <td>-0.79</td>\n      <td>-0.95</td>\n      <td>-0.91</td>\n      <td>-0.58</td>\n    </tr>\n    <tr>\n      <th>total_supply</th>\n      <td>-0.36</td>\n      <td>1.00</td>\n      <td>1.00</td>\n      <td>-0.58</td>\n      <td>0.27</td>\n      <td>0.04</td>\n      <td>-0.11</td>\n      <td>-0.24</td>\n      <td>-0.79</td>\n      <td>-0.95</td>\n      <td>-0.91</td>\n      <td>-0.58</td>\n    </tr>\n    <tr>\n      <th>price</th>\n      <td>-0.08</td>\n      <td>-0.58</td>\n      <td>-0.58</td>\n      <td>1.00</td>\n      <td>-0.28</td>\n      <td>0.04</td>\n      <td>0.32</td>\n      <td>0.70</td>\n      <td>0.78</td>\n      <td>0.63</td>\n      <td>0.58</td>\n      <td>1.00</td>\n    </tr>\n    <tr>\n      <th>volume_24h</th>\n      <td>-0.20</td>\n      <td>0.27</td>\n      <td>0.27</td>\n      <td>-0.28</td>\n      <td>1.00</td>\n      <td>0.07</td>\n      <td>-0.39</td>\n      <td>-0.44</td>\n      <td>-0.25</td>\n      <td>-0.29</td>\n      <td>-0.36</td>\n      <td>-0.28</td>\n    </tr>\n    <tr>\n      <th>percent_change_1h</th>\n      <td>-0.08</td>\n      <td>0.04</td>\n      <td>0.04</td>\n      <td>0.04</td>\n      <td>0.07</td>\n      <td>1.00</td>\n      <td>0.23</td>\n      <td>0.08</td>\n      <td>0.03</td>\n      <td>-0.01</td>\n      <td>-0.03</td>\n      <td>0.04</td>\n    </tr>\n    <tr>\n      <th>percent_change_24h</th>\n      <td>-0.11</td>\n      <td>-0.11</td>\n      <td>-0.11</td>\n      <td>0.32</td>\n      <td>-0.39</td>\n      <td>0.23</td>\n      <td>1.00</td>\n      <td>0.46</td>\n      <td>0.28</td>\n      <td>0.16</td>\n      <td>0.16</td>\n      <td>0.32</td>\n    </tr>\n    <tr>\n      <th>percent_change_7d</th>\n      <td>-0.10</td>\n      <td>-0.24</td>\n      <td>-0.24</td>\n      <td>0.70</td>\n      <td>-0.44</td>\n      <td>0.08</td>\n      <td>0.46</td>\n      <td>1.00</td>\n      <td>0.52</td>\n      <td>0.37</td>\n      <td>0.36</td>\n      <td>0.70</td>\n    </tr>\n    <tr>\n      <th>percent_change_30d</th>\n      <td>-0.04</td>\n      <td>-0.79</td>\n      <td>-0.79</td>\n      <td>0.78</td>\n      <td>-0.25</td>\n      <td>0.03</td>\n      <td>0.28</td>\n      <td>0.52</td>\n      <td>1.00</td>\n      <td>0.85</td>\n      <td>0.71</td>\n      <td>0.78</td>\n    </tr>\n    <tr>\n      <th>percent_change_60d</th>\n      <td>0.17</td>\n      <td>-0.95</td>\n      <td>-0.95</td>\n      <td>0.63</td>\n      <td>-0.29</td>\n      <td>-0.01</td>\n      <td>0.16</td>\n      <td>0.37</td>\n      <td>0.85</td>\n      <td>1.00</td>\n      <td>0.87</td>\n      <td>0.63</td>\n    </tr>\n    <tr>\n      <th>percent_change_90d</th>\n      <td>0.46</td>\n      <td>-0.91</td>\n      <td>-0.91</td>\n      <td>0.58</td>\n      <td>-0.36</td>\n      <td>-0.03</td>\n      <td>0.16</td>\n      <td>0.36</td>\n      <td>0.71</td>\n      <td>0.87</td>\n      <td>1.00</td>\n      <td>0.58</td>\n    </tr>\n    <tr>\n      <th>market_cap</th>\n      <td>-0.08</td>\n      <td>-0.58</td>\n      <td>-0.58</td>\n      <td>1.00</td>\n      <td>-0.28</td>\n      <td>0.04</td>\n      <td>0.32</td>\n      <td>0.70</td>\n      <td>0.78</td>\n      <td>0.63</td>\n      <td>0.58</td>\n      <td>1.00</td>\n    </tr>\n  </tbody>\n</table>\n</div>"
     },
     "execution_count": 4,
     "metadata": {},
     "output_type": "execute_result"
    }
   ],
   "source": [
    "from sklearn.preprocessing import MinMaxScaler, LabelEncoder, StandardScaler, normalize, Normalizer\n",
    "df = pd.DataFrame(modified_data)\n",
    "btc = df[df.isin(['BTC']).any(axis=1)]\n",
    "btc['name'] = preprocessing.LabelEncoder().fit_transform(btc.name)\n",
    "btc['symbol'] = preprocessing.LabelEncoder().fit_transform(btc.symbol)\n",
    "btc_values = btc.drop(['last_updated','name','symbol','converted time','cmc_rank'],axis=1)\n",
    "pd.set_option('display.precision',2)\n",
    "btc_values.corr()\n",
    "#btc.hist()"
   ],
   "metadata": {
    "collapsed": false,
    "pycharm": {
     "name": "#%%\n"
    }
   }
  },
  {
   "cell_type": "code",
   "execution_count": 5,
   "outputs": [
    {
     "name": "stdout",
     "output_type": "stream",
     "text": [
      "[[0.         0.         0.91555556 0.         0.         0.\n",
      "  0.75882149 0.25633845 0.48894169 0.618181   0.68966382 0.77048558\n",
      "  0.7739273  0.97588228 0.75604615]\n",
      " [0.         0.         0.91555556 0.00146735 0.00146735 0.\n",
      "  0.76618111 0.26071315 0.56124052 0.60633989 0.70600685 0.78221302\n",
      "  0.77559221 0.98908716 0.76341811]\n",
      " [0.         0.         0.91555556 0.00146735 0.00146735 0.\n",
      "  0.76862736 0.26074655 0.58174411 0.60511114 0.70746899 0.78490584\n",
      "  0.77752692 0.99056974 0.76586531]\n",
      " [0.         0.         0.91555556 0.00146735 0.00146735 0.\n",
      "  0.76862736 0.26074655 0.58174411 0.60511114 0.70746899 0.78490584\n",
      "  0.77752692 0.99056974 0.76586531]\n",
      " [0.         0.         0.91555556 0.00146735 0.00146735 0.\n",
      "  0.76230834 0.25950001 0.58192719 0.60094479 0.69992287 0.77559933\n",
      "  0.77574269 0.98462502 0.75954385]\n",
      " [0.         0.         0.91555556 0.00146735 0.00146735 0.\n",
      "  0.77212241 0.25810666 0.63052955 0.60999768 0.71826624 0.7913998\n",
      "  0.78548091 0.98801691 0.76936169]\n",
      " [0.         0.         0.91555556 0.00146735 0.00146735 0.\n",
      "  0.77447354 0.25244895 0.64193854 0.61726289 0.70393803 0.78390672\n",
      "  0.77673608 0.99101144 0.77171373]\n",
      " [0.         0.         0.92222222 0.00311079 0.00311079 0.\n",
      "  0.77236188 0.24359376 0.66682701 0.62277705 0.69694524 0.788211\n",
      "  0.7575668  0.97823312 0.769612  ]\n",
      " [0.         0.         0.92444444 0.00311079 0.00311079 0.\n",
      "  0.7724632  0.24103207 0.65690786 0.5987915  0.70311213 0.78575606\n",
      "  0.75568478 0.97383513 0.76971335]\n",
      " [0.         0.         0.92666667 0.00311079 0.00311079 0.\n",
      "  0.76591738 0.23611471 0.61618998 0.57095553 0.68540977 0.77665417\n",
      "  0.75344007 0.97386543 0.76316497]\n",
      " [0.         0.         0.92666667 0.00311079 0.00311079 0.\n",
      "  0.76924659 0.23781532 0.61664584 0.58247605 0.69464559 0.7723175\n",
      "  0.76133281 0.97097588 0.76649549]\n",
      " [0.         0.         0.92666667 0.00457814 0.00457814 0.\n",
      "  0.73401423 0.21996078 0.52456948 0.52652965 0.65290714 0.73568415\n",
      "  0.74232394 0.94892966 0.73125874]\n",
      " [0.         0.         0.92666667 0.00457814 0.00457814 0.\n",
      "  0.74354618 0.22779732 0.54678426 0.54002674 0.66244484 0.74014327\n",
      "  0.751522   0.94904514 0.74079446]\n",
      " [0.         0.         0.92666667 0.00457814 0.00457814 0.\n",
      "  0.74801809 0.22539918 0.57496636 0.52283819 0.67323765 0.73206777\n",
      "  0.76169605 0.95236414 0.74526814]\n",
      " [0.         0.         0.92444444 0.00457814 0.00457814 0.\n",
      "  0.75447085 0.22591348 0.58813102 0.54406684 0.68824219 0.74355329\n",
      "  0.7645003  0.96048037 0.75172346]\n",
      " [0.         0.         0.92444444 0.00513573 0.00513573 0.\n",
      "  0.76239463 0.23446415 0.70557873 0.54785231 0.69432172 0.75532723\n",
      "  0.77462056 0.96532281 0.75965401]\n",
      " [0.         0.         0.92666667 0.00513573 0.00513573 0.\n",
      "  0.76083216 0.23363758 0.68161587 0.55719109 0.7027146  0.75092022\n",
      "  0.76670652 0.9639442  0.75809091]\n",
      " [0.         0.         0.92666667 0.00513573 0.00513573 0.\n",
      "  0.76266083 0.23246958 0.67370863 0.54453325 0.70932484 0.73272008\n",
      "  0.76653748 0.96184134 0.75992031]\n",
      " [0.         0.         0.92666667 0.00513573 0.00513573 0.\n",
      "  0.76998089 0.23260427 0.6750403  0.56397076 0.71145275 0.74066109\n",
      "  0.77881147 0.96262039 0.76724328]\n",
      " [0.         0.         0.92666667 0.00660308 0.00660308 0.\n",
      "  0.76963253 0.23155147 0.65399505 0.57075896 0.71713943 0.7535861\n",
      "  0.7907518  0.96189695 0.76690435]]\n"
     ]
    }
   ],
   "source": [
    "scaler = MinMaxScaler(feature_range=(0,1))\n",
    "scaled_data = scaler.fit_transform(btc.drop(['last_updated','converted time'],axis=1))\n",
    "#normalizer = Normalizer(norm='l1').fit(btc.drop(['last_updated','converted time'],axis=1))\n",
    "#normalized_data = normalizer.transform(btc.drop(['last_updated','converted time'],axis=1))\n",
    "print(scaled_data[:20])"
   ],
   "metadata": {
    "collapsed": false,
    "pycharm": {
     "name": "#%%\n"
    }
   }
  },
  {
   "cell_type": "code",
   "execution_count": 9,
   "outputs": [
    {
     "name": "stdout",
     "output_type": "stream",
     "text": [
      "0         2021-03-18\n",
      "100       2021-03-18\n",
      "200       2021-03-18\n",
      "300       2021-03-18\n",
      "400       2021-03-18\n",
      "             ...    \n",
      "147000    2021-05-30\n",
      "147100    2021-05-30\n",
      "147200    2021-06-03\n",
      "147300    2021-06-03\n",
      "147400    2021-06-03\n",
      "Name: converted time, Length: 1475, dtype: object\n"
     ]
    },
    {
     "data": {
      "text/plain": "<Figure size 432x288 with 1 Axes>",
      "image/png": "[encoded data removed]"
     },
     "metadata": {
      "needs_background": "light"
     },
     "output_type": "display_data"
    }
   ],
   "source": [
    "from sklearn.ensemble import RandomForestRegressor as rc\n",
    "rf_model = rc(random_state=1,max_depth=4)\n",
    "print(btc['converted time'])\n",
    "X_data = btc.drop(['price','converted time','last_updated','total_supply'],axis=1)\n",
    "rf_model.fit(X_data,btc.price)\n",
    "train_features = X_data.columns\n",
    "importance = rf_model.feature_importances_\n",
    "indices = np.argsort(importance)[-9:]\n",
    "plt.title('Feature importance')\n",
    "plt.barh(range(len(indices)),importance[indices],color='b',align='center')\n",
    "plt.yticks(range(len(indices)),[train_features[i] for i in indices])\n",
    "plt.xlabel('Relative importance')\n",
    "pd.DataFrame.to_csv(btc,'your_btc_data.csv')\n",
    "plt.show()"
   ],
   "metadata": {
    "collapsed": false,
    "pycharm": {
     "name": "#%%\n"
    }
   }
  }
 ],
 "metadata": {
  "kernelspec": {
   "display_name": "Python 3",
   "language": "python",
   "name": "python3"
  },
  "language_info": {
   "codemirror_mode": {
    "name": "ipython",
    "version": 2
   },
   "file_extension": ".py",
   "mimetype": "text/x-python",
   "name": "python",
   "nbconvert_exporter": "python",
   "pygments_lexer": "ipython2",
   "version": "2.7.6"
  }
 },
 "nbformat": 4,
 "nbformat_minor": 0
}